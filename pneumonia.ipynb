{
  "nbformat": 4,
  "nbformat_minor": 0,
  "metadata": {
    "colab": {
      "name": "pneumonia_new_version.ipynb",
      "provenance": [],
      "collapsed_sections": []
    },
    "kernelspec": {
      "name": "python3",
      "display_name": "Python 3"
    },
    "language_info": {
      "name": "python"
    },
    "accelerator": "TPU"
  },
  "cells": [
    {
      "cell_type": "markdown",
      "source": [
        "# Pneumonia X-Ray detection"
      ],
      "metadata": {
        "id": "OEX9dMKDDmbt"
      }
    },
    {
      "cell_type": "markdown",
      "source": [
        "## Import Libraries"
      ],
      "metadata": {
        "id": "OEEDn0MlCbX7"
      }
    },
    {
      "cell_type": "code",
      "execution_count": 1,
      "metadata": {
        "id": "TIPjhc5xkViu"
      },
      "outputs": [],
      "source": [
        "import os\n",
        "from pathlib import Path\n",
        "import numpy as np #linear algebra\n",
        "import pandas as pd #data processing, CSV file\n",
        "from matplotlib import pyplot as plt\n",
        "from PIL import Image\n",
        "\n",
        "from cv2 import cv2  #import cv2\n",
        "\n",
        "import seaborn as sns\n",
        "\n",
        "import tensorflow as tf\n",
        "from tensorflow import keras\n",
        "\n",
        "from sklearn.model_selection import train_test_split"
      ]
    },
    {
      "cell_type": "markdown",
      "source": [
        "## Download pneumonia dataset\n",
        "\n",
        "The dataset will be placed in the `dataset` folder, with the following tree structure:\n",
        "```\n",
        "├── dataset\n",
        "│   └── chest_xray\n",
        "│       ├── chest_xray\n",
        "│       │   ├── test\n",
        "│       │   │   ├── NORMAL\n",
        "│       │   │   └── PNEUMONIA\n",
        "│       │   ├── train\n",
        "│       │   │   ├── NORMAL\n",
        "│       │   │   └── PNEUMONIA\n",
        "│       │   └── val\n",
        "│       │       ├── NORMAL\n",
        "│       │       └── PNEUMONIA\n",
        "```"
      ],
      "metadata": {
        "id": "WUO4bF8SAJkE"
      }
    },
    {
      "cell_type": "code",
      "source": [
        "from google.colab import drive\n",
        "drive.mount('/content/drive')\n",
        "\n",
        "# Setup kaggle with kaggle.json in \"MyDrive\" (\"Il Mio Drive\") folder\n",
        "\n",
        "# install the Kaggle library\n",
        "!pip install kaggle\n",
        "\n",
        "# make a directory named “.kaggle”\n",
        "!mkdir ~/.kaggle\n",
        "\n",
        "# copy the “kaggle.json” into this new directory\n",
        "!cp /content/drive/MyDrive/kaggle.json ~/.kaggle/kaggle.json\n",
        "\n",
        "# allocate the required permission for this file\n",
        "!chmod 600 ~/.kaggle/kaggle.json\n",
        "\n",
        "# download pneumonia dataset\n",
        "!kaggle datasets download -d paultimothymooney/chest-xray-pneumonia\n",
        "\n",
        "# unzip it into dataset folder\n",
        "!mkdir dataset\n",
        "!unzip chest-xray-pneumonia.zip -d dataset\n"
      ],
      "metadata": {
        "id": "xr4dD0awlrfe"
      },
      "execution_count": null,
      "outputs": []
    },
    {
      "cell_type": "markdown",
      "source": [
        "## Import and explore data"
      ],
      "metadata": {
        "id": "C-hVlXQ7AyTW"
      }
    },
    {
      "cell_type": "code",
      "source": [
        "print(\"importing dataset...\")\n",
        "\n",
        "labels = ['PNEUMONIA', 'NORMAL']\n",
        "image_size = 200 # 150\n",
        "\n",
        "def load_set_from_dir(data_dir) :\n",
        "  data = []\n",
        "  for label in labels:\n",
        "    path = os.path.join(data_dir, label)\n",
        "    num_class = labels.index(label)\n",
        "    \n",
        "    for image_name in os.listdir(path):  #read every image individually\n",
        "      try:\n",
        "        img_arr = cv2.imread(os.path.join(path, image_name), 0)  # 0 = grayscale\n",
        "        resized_img_arr = cv2.resize(img_arr, (image_size, image_size))\n",
        "        data.append([resized_img_arr, num_class])      #data.append([resized_img_arr, label])\n",
        "      except Exception as e:\n",
        "        print(e) #case when an image is \n",
        "  return np.array(data)\n",
        "\n",
        "\n",
        "data_dir = Path('dataset/chest_xray/chest_xray')\n",
        "train_dir = os.path.join(data_dir, 'train')\n",
        "val_dir = os.path.join(data_dir, 'val')\n",
        "test_dir = os.path.join(data_dir, 'test')\n",
        "\n",
        "print(\"loading train...\")\n",
        "train_data = load_set_from_dir(train_dir)\n",
        "print(\"loading validation...\")\n",
        "val_data = load_set_from_dir(val_dir)\n",
        "print(\"loading test...\")\n",
        "test_data = load_set_from_dir(test_dir)\n",
        "print(\"\\neverything loaded.\")"
      ],
      "metadata": {
        "id": "FesmhJpTA11g",
        "colab": {
          "base_uri": "https://localhost:8080/"
        },
        "outputId": "a4e94a16-fa7c-486c-edd9-2be96a84209e"
      },
      "execution_count": 3,
      "outputs": [
        {
          "output_type": "stream",
          "name": "stdout",
          "text": [
            "importing dataset...\n",
            "loading train...\n",
            "OpenCV(4.1.2) /io/opencv/modules/imgproc/src/resize.cpp:3720: error: (-215:Assertion failed) !ssize.empty() in function 'resize'\n",
            "\n",
            "OpenCV(4.1.2) /io/opencv/modules/imgproc/src/resize.cpp:3720: error: (-215:Assertion failed) !ssize.empty() in function 'resize'\n",
            "\n"
          ]
        },
        {
          "output_type": "stream",
          "name": "stderr",
          "text": [
            "/usr/local/lib/python3.7/dist-packages/ipykernel_launcher.py:19: VisibleDeprecationWarning: Creating an ndarray from ragged nested sequences (which is a list-or-tuple of lists-or-tuples-or ndarrays with different lengths or shapes) is deprecated. If you meant to do this, you must specify 'dtype=object' when creating the ndarray.\n"
          ]
        },
        {
          "output_type": "stream",
          "name": "stdout",
          "text": [
            "loading validation...\n",
            "OpenCV(4.1.2) /io/opencv/modules/imgproc/src/resize.cpp:3720: error: (-215:Assertion failed) !ssize.empty() in function 'resize'\n",
            "\n",
            "OpenCV(4.1.2) /io/opencv/modules/imgproc/src/resize.cpp:3720: error: (-215:Assertion failed) !ssize.empty() in function 'resize'\n",
            "\n",
            "loading test...\n",
            "\n",
            "everything loaded.\n"
          ]
        }
      ]
    },
    {
      "cell_type": "code",
      "source": [
        "# explore the data\n",
        "\n",
        "print('train data infos:\\n')\n",
        "\n",
        "tmp = []\n",
        "for i in train_data:\n",
        "    if(i[1] == 0):\n",
        "        tmp.append(\"Pneumonia\")\n",
        "    else:\n",
        "        tmp.append(\"Normal\")\n",
        "sns.set_style('darkgrid')\n",
        "sns.countplot(tmp)  "
      ],
      "metadata": {
        "id": "HmX-ufpZKx0F",
        "colab": {
          "base_uri": "https://localhost:8080/",
          "height": 373
        },
        "outputId": "7810f689-bca1-41ba-9c77-78248cc77755"
      },
      "execution_count": 4,
      "outputs": [
        {
          "output_type": "stream",
          "name": "stdout",
          "text": [
            "train data infos:\n",
            "\n"
          ]
        },
        {
          "output_type": "stream",
          "name": "stderr",
          "text": [
            "/usr/local/lib/python3.7/dist-packages/seaborn/_decorators.py:43: FutureWarning: Pass the following variable as a keyword arg: x. From version 0.12, the only valid positional argument will be `data`, and passing other arguments without an explicit keyword will result in an error or misinterpretation.\n",
            "  FutureWarning\n"
          ]
        },
        {
          "output_type": "execute_result",
          "data": {
            "text/plain": [
              "<matplotlib.axes._subplots.AxesSubplot at 0x7fcbb8d92550>"
            ]
          },
          "metadata": {},
          "execution_count": 4
        },
        {
          "output_type": "display_data",
          "data": {
            "text/plain": [
              "<Figure size 432x288 with 1 Axes>"
            ],
            "image/png": "[encoded data removed]"
          },
          "metadata": {}
        }
      ]
    },
    {
      "cell_type": "code",
      "source": [
        "print(\"\"\"\n",
        "!!!\n",
        "This doesn’t look good, our trainig data is imbalanced. \n",
        "The number of images containing pneumonia is three times the number of normal images. \n",
        "Honestly, this is a fundamental problem with most medical datasets out there, \n",
        "as the people who go to a doctor with an ailment mostly have one.\n",
        "!!!\n",
        "!!!\n",
        "We will apply data augmentation methods to increase the number of training images\n",
        "!!!\n",
        "\"\"\")"
      ],
      "metadata": {
        "colab": {
          "base_uri": "https://localhost:8080/"
        },
        "id": "w4XlyTtuk9vp",
        "outputId": "1708b3ef-0b25-475b-a5fc-6f27c2a8e8ec"
      },
      "execution_count": 5,
      "outputs": [
        {
          "output_type": "stream",
          "name": "stdout",
          "text": [
            "\n",
            "!!!\n",
            "This doesn’t look good, our trainig data is imbalanced. \n",
            "The number of images containing pneumonia is three times the number of normal images. \n",
            "Honestly, this is a fundamental problem with most medical datasets out there, \n",
            "as the people who go to a doctor with an ailment mostly have one.\n",
            "!!!\n",
            "!!!\n",
            "We will apply data augmentation methods to increase the number of training images\n",
            "!!!\n",
            "\n"
          ]
        }
      ]
    },
    {
      "cell_type": "code",
      "source": [
        "# display some sample images\n",
        "plt.figure(figsize=(3,3))\n",
        "plt.imshow(train_data[10][0], cmap='gray') #label 0 = pneumonia\n",
        "plt.title(train_data[10][1])\n",
        "\n",
        "plt.figure(figsize=(3,3))\n",
        "plt.imshow(train_data[-1][0], cmap='gray') #label 1 = normal\n",
        "plt.title(train_data[-1][1])"
      ],
      "metadata": {
        "id": "CMKuF7wzN-E7",
        "colab": {
          "base_uri": "https://localhost:8080/",
          "height": 454
        },
        "outputId": "951c5974-a0d4-43ca-a318-d58fec644ac1"
      },
      "execution_count": 6,
      "outputs": [
        {
          "output_type": "execute_result",
          "data": {
            "text/plain": [
              "Text(0.5, 1.0, '1')"
            ]
          },
          "metadata": {},
          "execution_count": 6
        },
        {
          "output_type": "display_data",
          "data": {
            "text/plain": [
              "<Figure size 216x216 with 1 Axes>"
            ],
            "image/png": "[encoded data removed]"
          },
          "metadata": {}
        },
        {
          "output_type": "display_data",
          "data": {
            "text/plain": [
              "<Figure size 216x216 with 1 Axes>"
            ],
            "image/png": "[encoded data removed]"
          },
          "metadata": {}
        }
      ]
    },
    {
      "cell_type": "markdown",
      "source": [
        "## Preprocessing"
      ],
      "metadata": {
        "id": "drUiqhdbS_qS"
      }
    },
    {
      "cell_type": "code",
      "source": [
        "#train_data[0][1] #label\n",
        "#train_data[0][0] #image\n",
        "#train_data[0][0][0] #prima riga della matrice dell'immagine\n",
        "#train_data[0] #image+label\n",
        "#train_data[:][1]"
      ],
      "metadata": {
        "id": "V0ELaVl2tMvW"
      },
      "execution_count": 7,
      "outputs": []
    },
    {
      "cell_type": "code",
      "source": [
        "x_train = []\n",
        "y_train = []\n",
        "\n",
        "x_val = []\n",
        "y_val = []\n",
        "\n",
        "x_test = []\n",
        "y_test = []\n",
        "\n",
        "for img, lbl in train_data:\n",
        "    #img_tmp = img.astype('float32')\n",
        "    x_train.append(img)\n",
        "    y_train.append(lbl)\n",
        "\n",
        "for img, lbl in test_data:\n",
        "    #img_tmp = img.astype('float32')\n",
        "    x_test.append(img)\n",
        "    y_test.append(lbl)\n",
        "    \n",
        "for img, lbl in val_data:\n",
        "    #img_tmp = img.astype('float32')\n",
        "    x_val.append(img)\n",
        "    y_val.append(lbl)\n",
        "\n",
        "#normalize data\n",
        "x_train = np.array(x_train)/255\n",
        "x_train = x_train.reshape(-1, image_size, image_size, 1)\n",
        "y_train = np.array(y_train)\n",
        "\n",
        "x_val = np.array(x_val)/255\n",
        "x_val = x_val.reshape(-1, image_size, image_size, 1)\n",
        "y_val = np.array(y_val)\n",
        "\n",
        "x_test = np.array(x_test)/255\n",
        "x_test = x_test.reshape(-1, image_size, image_size, 1)\n",
        "y_test = np.array(y_test)"
      ],
      "metadata": {
        "id": "S4mcOvPZe0cW"
      },
      "execution_count": 8,
      "outputs": []
    },
    {
      "cell_type": "code",
      "source": [
        "#number of samples in all the three sets\n",
        "print('SIZES')\n",
        "print('Training set: {}\\nValidation set: {}\\nTest set: {}'.format(x_train.shape[0], x_val.shape[0], x_test.shape[0]))"
      ],
      "metadata": {
        "colab": {
          "base_uri": "https://localhost:8080/"
        },
        "id": "Yl6YaAfx_v2-",
        "outputId": "e32fd7aa-222f-42e6-b7f1-d48506f816bd"
      },
      "execution_count": 9,
      "outputs": [
        {
          "output_type": "stream",
          "name": "stdout",
          "text": [
            "SIZES\n",
            "Training set: 5216\n",
            "Validation set: 16\n",
            "Test set: 624\n"
          ]
        }
      ]
    },
    {
      "cell_type": "markdown",
      "source": [
        "## Models definition"
      ],
      "metadata": {
        "id": "o0RGXgJNTCHj"
      }
    },
    {
      "cell_type": "markdown",
      "source": [
        "### Tensorflow Model\n",
        "Simple CNN with a convolutional layer, a maxpool layer, a dense layer of 100 neurons and a single terminal neuron"
      ],
      "metadata": {
        "id": "6AAom_2YCRxA"
      }
    },
    {
      "cell_type": "code",
      "source": [
        "#model definition\n",
        "basic_model = tf.keras.Sequential([\n",
        "              tf.keras.layers.InputLayer(input_shape=(image_size, image_size, 1)),\n",
        "              tf.keras.layers.RandomCrop(145, 145),\n",
        "              tf.keras.layers.RandomFlip(\"horizontal_and_vertical\"),\n",
        "              tf.keras.layers.RandomTranslation(0.2, 0.2, \"reflect\"),\n",
        "              tf.keras.layers.RandomRotation(0.1),\n",
        "              tf.keras.layers.RandomContrast(0.1),\n",
        "              tf.keras.layers.Conv2D(32 , (3,3) , strides = 1 , padding = 'same' , activation = 'relu'),\n",
        "              tf.keras.layers.BatchNormalization(),\n",
        "              tf.keras.layers.MaxPool2D((2,2) , strides = 2 , padding = 'same'),\n",
        "              tf.keras.layers.Conv2D(64 , (3,3) , strides = 1 , padding = 'same' , activation = 'relu'),\n",
        "              tf.keras.layers.Dropout(0.1),\n",
        "              tf.keras.layers.BatchNormalization(),\n",
        "              tf.keras.layers.MaxPool2D((2,2) , strides = 2 , padding = 'same'),\n",
        "              tf.keras.layers.Conv2D(64 , (3,3) , strides = 1 , padding = 'same' , activation = 'relu'),\n",
        "              tf.keras.layers.BatchNormalization(),\n",
        "              tf.keras.layers.MaxPool2D((2,2) , strides = 2 , padding = 'same'),\n",
        "              tf.keras.layers.Conv2D(128 , (3,3) , strides = 1 , padding = 'same' , activation = 'relu'),\n",
        "              tf.keras.layers.Dropout(0.2),\n",
        "              tf.keras.layers.BatchNormalization(),\n",
        "              tf.keras.layers.MaxPool2D((2,2) , strides = 2 , padding = 'same'),\n",
        "              tf.keras.layers.Conv2D(256 , (3,3) , strides = 1 , padding = 'same' , activation = 'relu'),\n",
        "              tf.keras.layers.Dropout(0.2),\n",
        "              tf.keras.layers.BatchNormalization(),\n",
        "              tf.keras.layers.MaxPool2D((2,2) , strides = 2 , padding = 'same'),\n",
        "              tf.keras.layers.Flatten(),\n",
        "              tf.keras.layers.Dense(128, activation='relu'),\n",
        "              tf.keras.layers.Dropout(0.2),\n",
        "              tf.keras.layers.Dense(1, activation='sigmoid')\n",
        "])\n",
        "\n",
        "#compile model\n",
        "basic_model.compile(loss='binary_crossentropy', optimizer='rmsprop', metrics=['accuracy']) #rmsprop uses adaptive learning rate, learning rate is not an hyperparameter\n",
        "\n",
        "#print model\n",
        "basic_model.summary()"
      ],
      "metadata": {
        "id": "cldjHEzdCkR_",
        "colab": {
          "base_uri": "https://localhost:8080/"
        },
        "outputId": "c7301bd1-d032-49bb-a9a7-1d76a706f980"
      },
      "execution_count": 10,
      "outputs": [
        {
          "output_type": "stream",
          "name": "stdout",
          "text": [
            "Model: \"sequential\"\n",
            "_________________________________________________________________\n",
            " Layer (type)                Output Shape              Param #   \n",
            "=================================================================\n",
            " random_crop (RandomCrop)    (None, 145, 145, 1)       0         \n",
            "                                                                 \n",
            " random_flip (RandomFlip)    (None, 145, 145, 1)       0         \n",
            "                                                                 \n",
            " random_translation (RandomT  (None, 145, 145, 1)      0         \n",
            " ranslation)                                                     \n",
            "                                                                 \n",
            " random_rotation (RandomRota  (None, 145, 145, 1)      0         \n",
            " tion)                                                           \n",
            "                                                                 \n",
            " random_contrast (RandomCont  (None, 145, 145, 1)      0         \n",
            " rast)                                                           \n",
            "                                                                 \n",
            " conv2d (Conv2D)             (None, 145, 145, 32)      320       \n",
            "                                                                 \n",
            " batch_normalization (BatchN  (None, 145, 145, 32)     128       \n",
            " ormalization)                                                   \n",
            "                                                                 \n",
            " max_pooling2d (MaxPooling2D  (None, 73, 73, 32)       0         \n",
            " )                                                               \n",
            "                                                                 \n",
            " conv2d_1 (Conv2D)           (None, 73, 73, 64)        18496     \n",
            "                                                                 \n",
            " dropout (Dropout)           (None, 73, 73, 64)        0         \n",
            "                                                                 \n",
            " batch_normalization_1 (Batc  (None, 73, 73, 64)       256       \n",
            " hNormalization)                                                 \n",
            "                                                                 \n",
            " max_pooling2d_1 (MaxPooling  (None, 37, 37, 64)       0         \n",
            " 2D)                                                             \n",
            "                                                                 \n",
            " conv2d_2 (Conv2D)           (None, 37, 37, 64)        36928     \n",
            "                                                                 \n",
            " batch_normalization_2 (Batc  (None, 37, 37, 64)       256       \n",
            " hNormalization)                                                 \n",
            "                                                                 \n",
            " max_pooling2d_2 (MaxPooling  (None, 19, 19, 64)       0         \n",
            " 2D)                                                             \n",
            "                                                                 \n",
            " conv2d_3 (Conv2D)           (None, 19, 19, 128)       73856     \n",
            "                                                                 \n",
            " dropout_1 (Dropout)         (None, 19, 19, 128)       0         \n",
            "                                                                 \n",
            " batch_normalization_3 (Batc  (None, 19, 19, 128)      512       \n",
            " hNormalization)                                                 \n",
            "                                                                 \n",
            " max_pooling2d_3 (MaxPooling  (None, 10, 10, 128)      0         \n",
            " 2D)                                                             \n",
            "                                                                 \n",
            " conv2d_4 (Conv2D)           (None, 10, 10, 256)       295168    \n",
            "                                                                 \n",
            " dropout_2 (Dropout)         (None, 10, 10, 256)       0         \n",
            "                                                                 \n",
            " batch_normalization_4 (Batc  (None, 10, 10, 256)      1024      \n",
            " hNormalization)                                                 \n",
            "                                                                 \n",
            " max_pooling2d_4 (MaxPooling  (None, 5, 5, 256)        0         \n",
            " 2D)                                                             \n",
            "                                                                 \n",
            " flatten (Flatten)           (None, 6400)              0         \n",
            "                                                                 \n",
            " dense (Dense)               (None, 128)               819328    \n",
            "                                                                 \n",
            " dropout_3 (Dropout)         (None, 128)               0         \n",
            "                                                                 \n",
            " dense_1 (Dense)             (None, 1)                 129       \n",
            "                                                                 \n",
            "=================================================================\n",
            "Total params: 1,246,401\n",
            "Trainable params: 1,245,313\n",
            "Non-trainable params: 1,088\n",
            "_________________________________________________________________\n"
          ]
        }
      ]
    },
    {
      "cell_type": "markdown",
      "source": [
        "## Training"
      ],
      "metadata": {
        "id": "IXVHgrhCTHBW"
      }
    },
    {
      "cell_type": "code",
      "source": [
        "pneumonia_tot = (y_train == 0).sum() + (y_val == 0).sum() + (y_test == 0).sum()\n",
        "normal_tot = (y_train == 1).sum() + (y_val == 1).sum() + (y_test == 1).sum()\n",
        "total_training = (y_train == 0).sum() + (y_train == 1).sum()\n",
        "\n",
        "weight_for_pneumonia = (1 / pneumonia_tot) * (total_training / 2.0)\n",
        "weight_for_normal = (1 / normal_tot) * (total_training / 2.0)\n",
        "print(weight_for_pneumonia)\n",
        "print(weight_for_normal)\n",
        "\n",
        "#setting weights for focusing the training phase on the least represented class of images \n",
        "class_weights = {0: weight_for_pneumonia, 1: weight_for_normal}\n"
      ],
      "metadata": {
        "id": "AX1w1doj6Co-",
        "colab": {
          "base_uri": "https://localhost:8080/"
        },
        "outputId": "a61222cf-c2ab-4c20-cf71-35cacf11b651"
      },
      "execution_count": 11,
      "outputs": [
        {
          "output_type": "stream",
          "name": "stdout",
          "text": [
            "0.6103440205944302\n",
            "1.647504737839545\n"
          ]
        }
      ]
    },
    {
      "cell_type": "markdown",
      "source": [
        "Basic Model training"
      ],
      "metadata": {
        "id": "EVz8t4Ti0aFW"
      }
    },
    {
      "cell_type": "code",
      "source": [
        "basic_history = basic_model.fit(x_train, y_train, epochs=13, batch_size=32, validation_data=(x_val, y_val), class_weight = class_weights) "
      ],
      "metadata": {
        "colab": {
          "base_uri": "https://localhost:8080/"
        },
        "id": "_wDezDy4GMRr",
        "outputId": "cf73f459-09fd-4076-df10-16252a40fde9"
      },
      "execution_count": 12,
      "outputs": [
        {
          "output_type": "stream",
          "name": "stdout",
          "text": [
            "Epoch 1/13\n",
            "163/163 [==============================] - 327s 2s/step - loss: 0.6113 - accuracy: 0.7768 - val_loss: 38.6065 - val_accuracy: 0.5000\n",
            "Epoch 2/13\n",
            "163/163 [==============================] - 314s 2s/step - loss: 0.3461 - accuracy: 0.8252 - val_loss: 93.2359 - val_accuracy: 0.5000\n",
            "Epoch 3/13\n",
            "163/163 [==============================] - 309s 2s/step - loss: 0.3403 - accuracy: 0.8470 - val_loss: 44.2346 - val_accuracy: 0.5000\n",
            "Epoch 4/13\n",
            "163/163 [==============================] - 310s 2s/step - loss: 0.3033 - accuracy: 0.8599 - val_loss: 1.7139 - val_accuracy: 0.6250\n",
            "Epoch 5/13\n",
            "163/163 [==============================] - 306s 2s/step - loss: 0.2750 - accuracy: 0.8733 - val_loss: 0.6316 - val_accuracy: 0.6875\n",
            "Epoch 6/13\n",
            "163/163 [==============================] - 309s 2s/step - loss: 0.2932 - accuracy: 0.8861 - val_loss: 0.7149 - val_accuracy: 0.5000\n",
            "Epoch 7/13\n",
            "163/163 [==============================] - 307s 2s/step - loss: 0.2587 - accuracy: 0.8827 - val_loss: 0.8999 - val_accuracy: 0.5625\n",
            "Epoch 8/13\n",
            "163/163 [==============================] - 305s 2s/step - loss: 0.2329 - accuracy: 0.8926 - val_loss: 0.6396 - val_accuracy: 0.4375\n",
            "Epoch 9/13\n",
            "163/163 [==============================] - 307s 2s/step - loss: 0.2389 - accuracy: 0.8993 - val_loss: 1.1184 - val_accuracy: 0.5000\n",
            "Epoch 10/13\n",
            "163/163 [==============================] - 305s 2s/step - loss: 0.2562 - accuracy: 0.8969 - val_loss: 1.3631 - val_accuracy: 0.5000\n",
            "Epoch 11/13\n",
            "163/163 [==============================] - 307s 2s/step - loss: 0.2224 - accuracy: 0.9041 - val_loss: 1.4563 - val_accuracy: 0.5000\n",
            "Epoch 12/13\n",
            "163/163 [==============================] - 305s 2s/step - loss: 0.2265 - accuracy: 0.9095 - val_loss: 2.0993 - val_accuracy: 0.5000\n",
            "Epoch 13/13\n",
            "163/163 [==============================] - 305s 2s/step - loss: 0.2048 - accuracy: 0.9062 - val_loss: 0.6486 - val_accuracy: 0.6250\n"
          ]
        }
      ]
    },
    {
      "cell_type": "code",
      "source": [
        "print('Basic Model:\\n')\n",
        "scores = basic_model.evaluate(x_test, y_test, verbose=2)\n",
        "print(\" %s: %.2f%%\" % (basic_model.metrics_names[1], scores[1]*100))\n",
        "print(\"----------------------------\")\n"
      ],
      "metadata": {
        "id": "dTuGTU6mMHlc",
        "colab": {
          "base_uri": "https://localhost:8080/"
        },
        "outputId": "fac1d91b-95d3-4f71-a06d-ab70e3fcb5bf"
      },
      "execution_count": 14,
      "outputs": [
        {
          "output_type": "stream",
          "name": "stdout",
          "text": [
            "Basic Model:\n",
            "\n",
            "20/20 - 8s - loss: 0.5650 - accuracy: 0.7436 - 8s/epoch - 378ms/step\n",
            " accuracy: 74.36%\n",
            "----------------------------\n"
          ]
        }
      ]
    },
    {
      "cell_type": "markdown",
      "source": [
        "## Performace"
      ],
      "metadata": {
        "id": "WMUhFFuEG67b"
      }
    },
    {
      "cell_type": "code",
      "source": [
        "def plot_loss(history):\n",
        "  plt.figure(figsize=(10,6))\n",
        "  plt.plot(history.epoch,history.history['loss'], label='loss')\n",
        "  plt.plot(history.epoch,history.history['val_loss'],label='val_loss')\n",
        "  plt.title('loss')\n",
        "  plt.legend()\n",
        "  \n",
        "def plot_accuracy(history):\n",
        "  plt.figure(figsize=(10,6))\n",
        "  plt.plot(history.epoch,history.history['accuracy'],label='accuracy')\n",
        "  plt.plot(history.epoch,history.history['val_accuracy'],label='val_accuracy')\n",
        "  plt.title('accuracy')\n",
        "  plt.legend()"
      ],
      "metadata": {
        "id": "rJ2ryJL0HGYd"
      },
      "execution_count": 15,
      "outputs": []
    },
    {
      "cell_type": "markdown",
      "source": [
        "### Basic Model Plot"
      ],
      "metadata": {
        "id": "lkq59SXX1jUA"
      }
    },
    {
      "cell_type": "code",
      "source": [
        "plot_loss(basic_history)\n",
        "plot_accuracy(basic_history)"
      ],
      "metadata": {
        "id": "8wJD4VRT1ndn",
        "colab": {
          "base_uri": "https://localhost:8080/",
          "height": 763
        },
        "outputId": "f1e13ec4-4c95-40e1-810d-f4340ce21445"
      },
      "execution_count": 16,
      "outputs": [
        {
          "output_type": "display_data",
          "data": {
            "text/plain": [
              "<Figure size 720x432 with 1 Axes>"
            ],
            "image/png": "[encoded data removed]"
          },
          "metadata": {}
        },
        {
          "output_type": "display_data",
          "data": {
            "text/plain": [
              "<Figure size 720x432 with 1 Axes>"
            ],
            "image/png": "[encoded data removed]"
          },
          "metadata": {}
        }
      ]
    }
  ]
}